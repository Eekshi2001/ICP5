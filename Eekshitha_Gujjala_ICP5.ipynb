{
 "cells": [
  {
   "cell_type": "code",
   "execution_count": 10,
   "id": "49a27eec",
   "metadata": {},
   "outputs": [
    {
     "name": "stdout",
     "output_type": "stream",
     "text": [
      "(214, 10)\n",
      "Naïve Bayes\n",
      "Total number of points: 22\n",
      "Mislabeled points : 15\n",
      "Accuracy 31.82%\n",
      "\n",
      "\n",
      "              precision    recall  f1-score   support\n",
      "\n",
      "           1       0.50      0.14      0.22         7\n",
      "           2       0.40      0.33      0.36         6\n",
      "           3       0.09      0.50      0.15         2\n",
      "           5       0.00      0.00      0.00         3\n",
      "           7       1.00      0.75      0.86         4\n",
      "\n",
      "    accuracy                           0.32        22\n",
      "   macro avg       0.40      0.35      0.32        22\n",
      "weighted avg       0.46      0.32      0.34        22\n",
      "\n"
     ]
    }
   ],
   "source": [
    "import pandas as pd\n",
    "from sklearn.svm import SVC\n",
    "from sklearn.naive_bayes import GaussianNB\n",
    "from sklearn.model_selection import train_test_split\n",
    "import time\n",
    "import warnings\n",
    "warnings.filterwarnings(\"ignore\")\n",
    "from sklearn import metrics\n",
    "\n",
    "data = pd.read_csv('/Users/eekshitha/Downloads/NNDL_Code and Data/glass.csv')\n",
    "print(data.shape)\n",
    "X_train, X_test = train_test_split(data, test_size=0.1, random_state=int(time.time()))\n",
    "\n",
    "features = [\"RI\", \"Na\", \"Mg\", \"Al\", \"Si\", \"K\", \"Ca\", \"Ba\", \"Fe\"]\n",
    "\n",
    "gauss = GaussianNB()\n",
    "\n",
    "gauss.fit(X_train[features].values,X_train[\"Type\"])\n",
    "\n",
    "y_pred = gauss.predict(X_test[features])\n",
    "\n",
    "print(\"Naïve Bayes\\nTotal number of points: {}\\nMislabeled points : {}\\nAccuracy {:05.2f}%\\n\\n\"\n",
    "      .format(\n",
    "          X_test.shape[0],\n",
    "          (X_test[\"Type\"] != y_pred).sum(),\n",
    "          100 * (1 - (X_test[\"Type\"] != y_pred).sum() / X_test.shape[0])\n",
    "      ))\n",
    "\n",
    "\n",
    "print(metrics.classification_report(X_test[\"Type\"], y_pred))"
   ]
  },
  {
   "cell_type": "code",
   "execution_count": 14,
   "id": "1a6eb8be",
   "metadata": {},
   "outputs": [],
   "source": [
    "import pandas as pd\n",
    "from sklearn.model_selection import train_test_split\n",
    "from sklearn.svm import SVC\n",
    "from sklearn.metrics import classification_report, accuracy_score\n",
    "   \n",
    "glass_data = pd.read_csv('/Users/eekshitha/Downloads/NNDL_Code and Data/glass.csv')\n",
    "  \n",
    "x_train = glass_data.drop(\"Type\", axis=1)\n",
    "y_train = glass_data['Type']"
   ]
  },
  {
   "cell_type": "code",
   "execution_count": 11,
   "id": "145a942e",
   "metadata": {},
   "outputs": [],
   "source": [
    "# splitting train and test data using train_test_split\n",
    "x_train, x_test, y_train, y_test = train_test_split(x_train, y_train, test_size=0.2, random_state=0)\n"
   ]
  },
  {
   "cell_type": "code",
   "execution_count": 12,
   "id": "af522216",
   "metadata": {},
   "outputs": [],
   "source": [
    "# Train the model using the training sets\n",
    "svc = SVC()\n",
    "svc.fit(x_train, y_train)\n",
    "y_pred = svc.predict(x_test)"
   ]
  },
  {
   "cell_type": "code",
   "execution_count": 13,
   "id": "85bc456e",
   "metadata": {},
   "outputs": [
    {
     "name": "stdout",
     "output_type": "stream",
     "text": [
      "              precision    recall  f1-score   support\n",
      "\n",
      "           1       0.00      0.00      0.00        19\n",
      "           2       0.17      1.00      0.29         6\n",
      "           3       0.00      0.00      0.00         2\n",
      "           5       0.00      0.00      0.00         1\n",
      "           6       0.00      0.00      0.00         3\n",
      "           7       0.00      0.00      0.00         4\n",
      "\n",
      "    accuracy                           0.17        35\n",
      "   macro avg       0.03      0.17      0.05        35\n",
      "weighted avg       0.03      0.17      0.05        35\n",
      "\n",
      "SVM accuracy is:  17.142857142857142\n"
     ]
    }
   ],
   "source": [
    "# Classification report \n",
    "qual_report = classification_report(y_test, y_pred, zero_division = 0)\n",
    "print(qual_report)\n",
    "print(\"SVM accuracy is: \", accuracy_score(y_test, y_pred)*100)"
   ]
  },
  {
   "cell_type": "code",
   "execution_count": null,
   "id": "96950188",
   "metadata": {},
   "outputs": [],
   "source": []
  }
 ],
 "metadata": {
  "kernelspec": {
   "display_name": "Python 3 (ipykernel)",
   "language": "python",
   "name": "python3"
  },
  "language_info": {
   "codemirror_mode": {
    "name": "ipython",
    "version": 3
   },
   "file_extension": ".py",
   "mimetype": "text/x-python",
   "name": "python",
   "nbconvert_exporter": "python",
   "pygments_lexer": "ipython3",
   "version": "3.10.9"
  }
 },
 "nbformat": 4,
 "nbformat_minor": 5
}
